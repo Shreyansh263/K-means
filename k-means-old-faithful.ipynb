{
  "cells": [
    {
      "cell_type": "markdown",
      "metadata": {},
      "source": [
        "Part 1 Question 1\n",
        "Group Members : Divya Mishra, Shreyansh Aswal, Vipin Gautam\n",
        "Group id : ViDiSh"
      ]
    },
    {
      "cell_type": "code",
      "execution_count": 265,
      "metadata": {
        "id": "fsaZ_YCqbgKL"
      },
      "outputs": [],
      "source": [
        "import numpy as np\n",
        "import pandas as pd\n",
        "import matplotlib.pyplot as plt"
      ]
    },
    {
      "cell_type": "code",
      "execution_count": 266,
      "metadata": {},
      "outputs": [],
      "source": [
        "filename=\"C:\\\\Users\\\\user\\\\Downloads\\\\Old_Faithful_Geyser_Data_375_89.csv\"\n",
        "Y=np.zeros(272*2).reshape(272,2)"
      ]
    },
    {
      "cell_type": "code",
      "execution_count": 267,
      "metadata": {},
      "outputs": [],
      "source": [
        "def load_csv_file():\n",
        "    df=pd.read_csv(filename)\n",
        "    j=0\n",
        "    for index,row in df.iterrows():\n",
        "        Y[j]=(row[2],row[3])\n",
        "        j+=1"
      ]
    },
    {
      "cell_type": "code",
      "execution_count": 268,
      "metadata": {},
      "outputs": [],
      "source": [
        "def determine_cluster(centroid_1,centroid_2):\n",
        "    Y1=[]\n",
        "    Y2=[]\n",
        "    for row in Y:\n",
        "        dist_1 = np.linalg.norm(centroid_1 - row)\n",
        "        dist_2 = np.linalg.norm(centroid_2 - row)\n",
        "        #dist_1 and dist_2 represent distance of a point from the two centroids. \n",
        "        if dist_1 > dist_2:\n",
        "            Y2.append(row)\n",
        "        else:\n",
        "            Y1.append(row)\n",
        "    return Y1,Y2"
      ]
    },
    {
      "cell_type": "code",
      "execution_count": 269,
      "metadata": {},
      "outputs": [],
      "source": [
        "def centroid(X):\n",
        "    sum_y=0\n",
        "    sum_x=0\n",
        "    c=np.zeros(2)\n",
        "    for row in X:\n",
        "        sum_x+=row[0]\n",
        "        sum_y+=row[1]\n",
        "    #Determining the value of the centroid of data points X\n",
        "    c[0]=sum_x/len(X)\n",
        "    c[1]=sum_y/len(X)\n",
        "    return c\n"
      ]
    },
    {
      "cell_type": "code",
      "execution_count": 270,
      "metadata": {},
      "outputs": [],
      "source": [
        "def calculate_centroids():\n",
        "    #randomly selecting two values from the dataset as initial centroids\n",
        "    c1_old=Y[23]\n",
        "    c2_old=Y[0]\n",
        "    global cnt\n",
        "    while True:\n",
        "        #Determine the cluster to which each point belongs to, based on the distance from the two centroids\n",
        "        Y1,Y2=determine_cluster(c1_old,c2_old)\n",
        "        \n",
        "        c1_new=centroid(Y1)\n",
        "        c2_new=centroid(Y2)\n",
        "        #Converge condition, when the distance between the newly computed and old centroids is zero, we break from the loop\n",
        "        if np.linalg.norm(c1_old - c1_new) ==0 and np.linalg.norm(c2_old - c2_new) ==0:\n",
        "            break\n",
        "        c1_old=c1_new\n",
        "        c2_old=c2_new\n",
        "    #return the computed centroids\n",
        "    return c1_new,c2_new,Y1,Y2"
      ]
    },
    {
      "cell_type": "code",
      "execution_count": 271,
      "metadata": {},
      "outputs": [
        {
          "data": {
            "image/png": "[encoded data removed]",
            "text/plain": [
              "<Figure size 432x288 with 1 Axes>"
            ]
          },
          "metadata": {
            "needs_background": "light"
          },
          "output_type": "display_data"
        }
      ],
      "source": [
        "load_csv_file()\n",
        "centroid_1,centroid_2,Y1,Y2=calculate_centroids()\n",
        "x1=np.zeros(len(Y1)*2).reshape(2,len(Y1))\n",
        "x2=np.zeros(len(Y2)*2).reshape(2,len(Y2))\n",
        "j=0; k=0\n",
        "\n",
        "for row in Y1:\n",
        "    x1[0][j]=row[0]\n",
        "    x1[1][j]=row[1]\n",
        "    j+=1\n",
        "\n",
        "for row in Y2:\n",
        "    x2[0][k]=row[0]\n",
        "    x2[1][k]=row[1]\n",
        "    k+=1\n",
        "plt.scatter(x1[0],x1[1])\n",
        "plt.scatter(x2[0],x2[1])\n",
        "plt.xlabel('Eruption Time')\n",
        "plt.ylabel('Waiting Time')\n",
        "plt.legend([\"Centroid {}\".format(centroid_1),\"Centroid {}\".format(centroid_2)])\n",
        "plt.show()\n"
      ]
    }
  ],
  "metadata": {
    "colab": {
      "collapsed_sections": [],
      "name": "MLAssignment1.ipynb",
      "provenance": []
    },
    "kernelspec": {
      "display_name": "Python 3",
      "name": "python3"
    },
    "language_info": {
      "codemirror_mode": {
        "name": "ipython",
        "version": 3
      },
      "file_extension": ".py",
      "mimetype": "text/x-python",
      "name": "python",
      "nbconvert_exporter": "python",
      "pygments_lexer": "ipython3",
      "version": "3.9.7"
    }
  },
  "nbformat": 4,
  "nbformat_minor": 0
}
